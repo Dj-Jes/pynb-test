{
 "cells": [
  {
   "cell_type": "code",
   "execution_count": null,
   "id": "e94c9179",
   "metadata": {},
   "outputs": [],
   "source": [
    "\n",
    "\n",
    "all_data = ('Hello', 'World', '!')\n",
    "# Access the data in the DataFrame\n",
    "print(all_data)"
   ]
  }
 ],
 "metadata": {},
 "nbformat": 4,
 "nbformat_minor": 5
}
